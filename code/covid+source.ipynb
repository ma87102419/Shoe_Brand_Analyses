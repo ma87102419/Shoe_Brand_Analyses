{
  "nbformat": 4,
  "nbformat_minor": 0,
  "metadata": {
    "colab": {
      "name": "covid+source.ipynb",
      "provenance": [],
      "collapsed_sections": []
    },
    "kernelspec": {
      "name": "python3",
      "display_name": "Python 3"
    }
  },
  "cells": [
    {
      "cell_type": "code",
      "metadata": {
        "id": "JO5ilSd1OLDQ"
      },
      "source": [
        "import pandas as pd\n",
        "import matplotlib.pyplot as plt\n",
        "import numpy as np\n",
        "plt.rcParams['font.sans-serif'] = ['Arial Unicode MS']\n",
        "from datetime import datetime"
      ],
      "execution_count": null,
      "outputs": []
    },
    {
      "cell_type": "code",
      "metadata": {
        "id": "8FREsD7pOUus"
      },
      "source": [
        "date = [[\"2018\", \"07\", 31], [\"2018\", \"08\", 31], [\"2018\", \"09\", 30], [\"2018\", \"10\", 31], [\"2018\", \"11\", 30], [\"2018\", \"12\", 31],\n",
        "        [\"2019\", \"01\", 31], [\"2019\", \"02\", 28], [\"2019\", \"03\", 31], [\"2019\", \"04\", 30], [\"2019\", \"05\", 31], [\"2019\", \"06\", 30],\n",
        "        [\"2019\", \"07\", 31], [\"2019\", \"08\", 31], [\"2019\", \"09\", 30], [\"2019\", \"10\", 31], [\"2019\", \"11\", 30], [\"2019\", \"12\", 31],\n",
        "        [\"2020\", \"01\", 31], [\"2020\", \"02\", 28], [\"2020\", \"03\", 31], [\"2020\", \"04\", 30]]"
      ],
      "execution_count": null,
      "outputs": []
    },
    {
      "cell_type": "code",
      "metadata": {
        "id": "YZSHKqdZOUs3"
      },
      "source": [
        "#2018-06\n",
        "df1806 = pd.read_csv(\"/Users/pangyuan/Desktop/91ForNTUDataSet/123_new/search_2018-06-26.csv\")\n",
        "for i in range(27, 31):\n",
        "    path = \"/Users/pangyuan/Desktop/91ForNTUDataSet/123_new/search_2018-06-\" + str(i) + \".csv\"\n",
        "    df = pd.read_csv(path)\n",
        "    DF = pd.concat([df, df1806], axis = 0)"
      ],
      "execution_count": null,
      "outputs": []
    },
    {
      "cell_type": "code",
      "metadata": {
        "id": "hrvDHxO3OUqf"
      },
      "source": [
        "for i in date:\n",
        "    for j in range(1, i[2]):\n",
        "        if j < 10:\n",
        "            path = \"/Users/pangyuan/Desktop/91ForNTUDataSet/123_new/search_\" + str(i[0]) + \"-\" + i[1] + \"-0\" + str(j) + \".csv\"\n",
        "        else:\n",
        "            path = \"/Users/pangyuan/Desktop/91ForNTUDataSet/123_new/search_\" + str(i[0]) + \"-\" + i[1] + \"-\" + str(j) + \".csv\"\n",
        "        df = pd.read_csv(path)\n",
        "        DF = pd.concat([df, DF], axis = 0)"
      ],
      "execution_count": null,
      "outputs": []
    },
    {
      "cell_type": "code",
      "metadata": {
        "id": "KWl87tuROUoG"
      },
      "source": [
        "order = pd.read_csv(\"/Users/pangyuan/Desktop/91ForNTUDataSet/OrderData.csv\")"
      ],
      "execution_count": null,
      "outputs": []
    },
    {
      "cell_type": "code",
      "metadata": {
        "id": "49ZQK1SDOUmH"
      },
      "source": [
        "all_search = DF.groupby(['uid']).size().reset_index(name='counts').sort_values(by='counts', ascending=False)\n",
        "DF_search_vip = DF.groupby(['uid']).size().reset_index(name='counts').sort_values(by='counts', ascending=False).head(15)"
      ],
      "execution_count": null,
      "outputs": []
    },
    {
      "cell_type": "code",
      "metadata": {
        "id": "JS1Vji2pOUi8"
      },
      "source": [
        "all_search = DF.groupby(['uid']).size().reset_index(name='counts').sort_values(by='counts', ascending=False)\n",
        "DF_search_vip = DF.groupby(['uid']).size().reset_index(name='counts').sort_values(by='counts', ascending=False).head(15)#>1000次的顧客\n",
        "search = list(DF_search_vip[\"uid\"])\n",
        "all_search[15:50]\n",
        "\n",
        "DF.isna().sum() #181842\n",
        "len(DF) #493713"
      ],
      "execution_count": null,
      "outputs": []
    },
    {
      "cell_type": "code",
      "metadata": {
        "id": "22xCaPI1OUgw"
      },
      "source": [
        "first = DF.loc[DF[\"uid\"] == \"jmPin5xB18Y61zGiw9xqSO3v5CW4eZqpq6oypBX%2F9BI%3D\"]\n",
        "first_list = list(first[\"pr\"])"
      ],
      "execution_count": null,
      "outputs": []
    },
    {
      "cell_type": "code",
      "metadata": {
        "id": "iKox3xVuOUes"
      },
      "source": [
        "VIP = pd.DataFrame()\n",
        "for i in search:\n",
        "    vip = order.loc[order[\"MemberID\"] == i]\n",
        "    VIP = pd.concat([vip, VIP])"
      ],
      "execution_count": null,
      "outputs": []
    },
    {
      "cell_type": "code",
      "metadata": {
        "id": "VC1mOGl5OUcZ"
      },
      "source": [
        "VIP[\"TotalPrice\"].mean() #1220.575 也偏低\n",
        "VIP_finish = len(VIP.loc[VIP[\"Status\"]==\"Finish\"])/len(VIP) #0.275 非常低\n",
        "print(\"搜尋VIP平均訂單價格：\" + str(VIP[\"TotalPrice\"].mean()))\n",
        "print(\"搜尋VIP訂單完成率：\" + str(VIP_finish))"
      ],
      "execution_count": null,
      "outputs": []
    },
    {
      "cell_type": "code",
      "metadata": {
        "id": "pTRUzTyiOUaG"
      },
      "source": [
        "count = DF.groupby(['pr']).size().reset_index(name='counts').sort_values(by='counts', ascending=False).head(25)\n",
        "count"
      ],
      "execution_count": null,
      "outputs": []
    },
    {
      "cell_type": "code",
      "metadata": {
        "id": "IOf9cIewPG9K"
      },
      "source": [
        "plt.figure(figsize=(15,3))\n",
        "plt.bar(count[\"pr\"], count[\"counts\"],color = 'pink')"
      ],
      "execution_count": null,
      "outputs": []
    },
    {
      "cell_type": "code",
      "metadata": {
        "id": "vtSR76b8PG7s"
      },
      "source": [
        "search = input()\n",
        "a = count.loc[count[\"pr\"] == search]\n",
        "print(a)"
      ],
      "execution_count": null,
      "outputs": []
    },
    {
      "cell_type": "code",
      "metadata": {
        "id": "u4UYe7M6PG4w"
      },
      "source": [
        "order[\"Status\"].unique()"
      ],
      "execution_count": null,
      "outputs": []
    },
    {
      "cell_type": "code",
      "metadata": {
        "id": "5z8MzUKFPG2e"
      },
      "source": [
        "order.sort_values(by=['TradesDateTime']) #2013~202004 分析201901~202004"
      ],
      "execution_count": null,
      "outputs": []
    },
    {
      "cell_type": "code",
      "metadata": {
        "id": "CGFm4NRFPGz_"
      },
      "source": [
        "for i in order[\"TradesDateTime\"]:\n",
        "    l.append(i)"
      ],
      "execution_count": null,
      "outputs": []
    },
    {
      "cell_type": "code",
      "metadata": {
        "id": "9jXRrydlPNpL"
      },
      "source": [
        "date = []\n",
        "for i in l:\n",
        "    date.append(i[0:7])"
      ],
      "execution_count": null,
      "outputs": []
    },
    {
      "cell_type": "code",
      "metadata": {
        "id": "iDSiPfQBPNnX"
      },
      "source": [
        "order[\"Date\"] = date"
      ],
      "execution_count": null,
      "outputs": []
    },
    {
      "cell_type": "code",
      "metadata": {
        "id": "IOdkjcdCPNkt"
      },
      "source": [
        "order1901 = order.loc[order[\"Date\"] == \"2019-01\"]#13123\n",
        "order1902 = order.loc[order[\"Date\"] == \"2019-02\"]#8661\n",
        "order1903 = order.loc[order[\"Date\"] == \"2019-03\"]#10565\n",
        "order1904 = order.loc[order[\"Date\"] == \"2019-04\"]#12338\n",
        "order1905 = order.loc[order[\"Date\"] == \"2019-05\"]#13149\n",
        "order1906 = order.loc[order[\"Date\"] == \"2019-06\"]#13057\n",
        "order1907 = order.loc[order[\"Date\"] == \"2019-07\"]#11614\n",
        "order1908 = order.loc[order[\"Date\"] == \"2019-08\"]#11397\n",
        "order1909 = order.loc[order[\"Date\"] == \"2019-09\"]#11244\n",
        "order1910 = order.loc[order[\"Date\"] == \"2019-10\"]#14515\n",
        "order1911 = order.loc[order[\"Date\"] == \"2019-11\"]#17119\n",
        "order1912 = order.loc[order[\"Date\"] == \"2019-12\"]#16261\n",
        "order2001 = order.loc[order[\"Date\"] == \"2020-01\"]#13815\n",
        "order2002 = order.loc[order[\"Date\"] == \"2020-02\"]#9350\n",
        "order2003 = order.loc[order[\"Date\"] == \"2020-03\"]#9688\n",
        "order2004 = order.loc[order[\"Date\"] == \"2020-04\"]#8481\n",
        "\n",
        "O = [\"1901\",\"1902\",\"1903\",\"1904\",\"1905\",\"1906\",\"1907\",\"1908\",\"1909\",\"1910\",\"1911\",\"1912\",\"2001\",\"2002\",\"2003\",\"2004\"]\n",
        "C = [13123,8661,10565,12338,13149,13057,11614,11397,11244,14515,17119,16261,13815,9350,9688,8481]"
      ],
      "execution_count": null,
      "outputs": []
    },
    {
      "cell_type": "code",
      "metadata": {
        "id": "fecEZTo2PNiJ"
      },
      "source": [
        "plt.figure(figsize=(10,3))\n",
        "plt.plot(O,C,'s-',color = 'pink', label=\"TSMC\")"
      ],
      "execution_count": null,
      "outputs": []
    },
    {
      "cell_type": "code",
      "metadata": {
        "id": "mLnPu2R3PNfj"
      },
      "source": [
        "order1901_finish = len(order1901.loc[order[\"Status\"]==\"Finish\"])\n",
        "order1902_finish = len(order1902.loc[order[\"Status\"]==\"Finish\"])\n",
        "order1903_finish = len(order1903.loc[order[\"Status\"]==\"Finish\"])\n",
        "order1904_finish = len(order1904.loc[order[\"Status\"]==\"Finish\"])\n",
        "order1905_finish = len(order1905.loc[order[\"Status\"]==\"Finish\"])\n",
        "order1906_finish = len(order1906.loc[order[\"Status\"]==\"Finish\"])\n",
        "order1907_finish = len(order1907.loc[order[\"Status\"]==\"Finish\"])\n",
        "order1908_finish = len(order1908.loc[order[\"Status\"]==\"Finish\"])\n",
        "order1909_finish = len(order1909.loc[order[\"Status\"]==\"Finish\"])\n",
        "order1910_finish = len(order1910.loc[order[\"Status\"]==\"Finish\"])\n",
        "order1911_finish = len(order1911.loc[order[\"Status\"]==\"Finish\"])\n",
        "order1912_finish = len(order1912.loc[order[\"Status\"]==\"Finish\"])\n",
        "order2001_finish = len(order2001.loc[order[\"Status\"]==\"Finish\"])\n",
        "order2002_finish = len(order2002.loc[order[\"Status\"]==\"Finish\"])\n",
        "order2003_finish = len(order2003.loc[order[\"Status\"]==\"Finish\"])\n",
        "order2004_finish = len(order2004.loc[order[\"Status\"]==\"Finish\"])"
      ],
      "execution_count": null,
      "outputs": []
    },
    {
      "cell_type": "code",
      "metadata": {
        "id": "di9MiBeSPaX5"
      },
      "source": [
        "order01_finish = order1901.loc[order[\"Status\"]==\"Finish\"]\n",
        "order02_finish = order1902.loc[order[\"Status\"]==\"Finish\"]\n",
        "order03_finish = order1903.loc[order[\"Status\"]==\"Finish\"]\n",
        "order04_finish = order1904.loc[order[\"Status\"]==\"Finish\"]\n",
        "order05_finish = order1905.loc[order[\"Status\"]==\"Finish\"]\n",
        "order06_finish = order1906.loc[order[\"Status\"]==\"Finish\"]\n",
        "order07_finish = order1907.loc[order[\"Status\"]==\"Finish\"]\n",
        "order08_finish = order1908.loc[order[\"Status\"]==\"Finish\"]\n",
        "order09_finish = order1909.loc[order[\"Status\"]==\"Finish\"]\n",
        "order10_finish = order1910.loc[order[\"Status\"]==\"Finish\"]\n",
        "order11_finish = order1911.loc[order[\"Status\"]==\"Finish\"]\n",
        "order12_finish = order1912.loc[order[\"Status\"]==\"Finish\"]\n",
        "order0120_finish = order2001.loc[order[\"Status\"]==\"Finish\"]\n",
        "order0220_finish = order2002.loc[order[\"Status\"]==\"Finish\"]\n",
        "order0320_finish = order2003.loc[order[\"Status\"]==\"Finish\"]\n",
        "order0420_finish = order2004.loc[order[\"Status\"]==\"Finish\"]"
      ],
      "execution_count": null,
      "outputs": []
    },
    {
      "cell_type": "code",
      "metadata": {
        "id": "yrxf581lPaWK"
      },
      "source": [
        "finish_rate = [order1901_finish/13123,order1902_finish/8661,order1903_finish/10565,order1904_finish/12338,order1905_finish/13149,order1906_finish/13057,order1907_finish/11614,order1908_finish/11397,order1909_finish/11244,order1910_finish/14515,order1911_finish/17119,order1912_finish/16261,order2001_finish/13815,order2002_finish/9350,order2003_finish/9688,order2004_finish/8481]"
      ],
      "execution_count": null,
      "outputs": []
    },
    {
      "cell_type": "code",
      "metadata": {
        "id": "IySc2DW2PaTf"
      },
      "source": [
        "finish = len(order.loc[order[\"Status\"]==\"Finish\"])/len(order)\n",
        "finish"
      ],
      "execution_count": null,
      "outputs": []
    },
    {
      "cell_type": "code",
      "metadata": {
        "id": "A5eXK_4rPpN6"
      },
      "source": [
        "plt.figure(figsize=(10,3))\n",
        "plt.plot(O,finish_rate,'s-',color = 'pink', label=\"TSMC\")"
      ],
      "execution_count": null,
      "outputs": []
    },
    {
      "cell_type": "code",
      "metadata": {
        "id": "zr_SvLvnPpLr"
      },
      "source": [
        "price1901 = order01_finish.loc[order[\"Date\"] == \"2019-01\"][\"TotalPrice\"].mean()\n",
        "price1902 = order02_finish.loc[order[\"Date\"] == \"2019-02\"][\"TotalPrice\"].mean()\n",
        "price1903 = order03_finish.loc[order[\"Date\"] == \"2019-03\"][\"TotalPrice\"].mean()\n",
        "price1904 = order04_finish.loc[order[\"Date\"] == \"2019-04\"][\"TotalPrice\"].mean()\n",
        "price1905 = order05_finish.loc[order[\"Date\"] == \"2019-05\"][\"TotalPrice\"].mean()\n",
        "price1906 = order06_finish.loc[order[\"Date\"] == \"2019-06\"][\"TotalPrice\"].mean()\n",
        "price1907 = order07_finish.loc[order[\"Date\"] == \"2019-07\"][\"TotalPrice\"].mean()\n",
        "price1908 = order08_finish.loc[order[\"Date\"] == \"2019-08\"][\"TotalPrice\"].mean()\n",
        "price1909 = order09_finish.loc[order[\"Date\"] == \"2019-09\"][\"TotalPrice\"].mean()\n",
        "price1910 = order10_finish.loc[order[\"Date\"] == \"2019-10\"][\"TotalPrice\"].mean()\n",
        "price1911 = order11_finish.loc[order[\"Date\"] == \"2019-11\"][\"TotalPrice\"].mean()\n",
        "price1912 = order12_finish.loc[order[\"Date\"] == \"2019-12\"][\"TotalPrice\"].mean()\n",
        "price2001 = order0120_finish.loc[order[\"Date\"] == \"2020-01\"][\"TotalPrice\"].mean()\n",
        "price2002 = order0220_finish.loc[order[\"Date\"] == \"2020-02\"][\"TotalPrice\"].mean()\n",
        "price2003 = order0320_finish.loc[order[\"Date\"] == \"2020-03\"][\"TotalPrice\"].mean()\n",
        "price2004 = order0420_finish.loc[order[\"Date\"] == \"2020-04\"][\"TotalPrice\"].mean()\n",
        "\n",
        "price = [price1901,price1902,price1903,price1904,price1905,price1906,price1907,price1908,price1909,price1910,price1911,price1912,price2001,price2002,price2003,price2004]"
      ],
      "execution_count": null,
      "outputs": []
    },
    {
      "cell_type": "code",
      "metadata": {
        "id": "vPiIMnkHPpJd"
      },
      "source": [
        "plt.figure(figsize=(10,3))\n",
        "plt.plot(O,price,'s-',color = 'pink', label=\"TSMC\")"
      ],
      "execution_count": null,
      "outputs": []
    },
    {
      "cell_type": "code",
      "metadata": {
        "id": "eUFr_0bbPpGV"
      },
      "source": [
        "price01 = order.loc[order[\"Date\"] == \"2019-01\"][\"TotalPrice\"].mean()\n",
        "price02 = order.loc[order[\"Date\"] == \"2019-02\"][\"TotalPrice\"].mean()\n",
        "price03 = order.loc[order[\"Date\"] == \"2019-03\"][\"TotalPrice\"].mean()\n",
        "price04 = order.loc[order[\"Date\"] == \"2019-04\"][\"TotalPrice\"].mean()\n",
        "price05 = order.loc[order[\"Date\"] == \"2019-05\"][\"TotalPrice\"].mean()\n",
        "price06 = order.loc[order[\"Date\"] == \"2019-06\"][\"TotalPrice\"].mean()\n",
        "price07 = order.loc[order[\"Date\"] == \"2019-07\"][\"TotalPrice\"].mean()\n",
        "price08 = order.loc[order[\"Date\"] == \"2019-08\"][\"TotalPrice\"].mean()\n",
        "price09 = order.loc[order[\"Date\"] == \"2019-09\"][\"TotalPrice\"].mean()\n",
        "price10 = order.loc[order[\"Date\"] == \"2019-10\"][\"TotalPrice\"].mean()\n",
        "price11 = order.loc[order[\"Date\"] == \"2019-11\"][\"TotalPrice\"].mean()\n",
        "price12 = order.loc[order[\"Date\"] == \"2019-12\"][\"TotalPrice\"].mean()\n",
        "price0120 = order.loc[order[\"Date\"] == \"2020-01\"][\"TotalPrice\"].mean()\n",
        "price0220 = order.loc[order[\"Date\"] == \"2020-02\"][\"TotalPrice\"].mean()\n",
        "price0320 = order.loc[order[\"Date\"] == \"2020-03\"][\"TotalPrice\"].mean()\n",
        "price0420 = order.loc[order[\"Date\"] == \"2020-04\"][\"TotalPrice\"].mean()\n",
        "\n",
        "price2 = [price01,price02,price03,price04,price05,price06,price07,price08,price09,price10,price11,price12,price0120,price0220,price0320,price0420]"
      ],
      "execution_count": null,
      "outputs": []
    },
    {
      "cell_type": "code",
      "metadata": {
        "id": "ePTNwk7cPwHo"
      },
      "source": [
        "plt.figure(figsize=(10,3))\n",
        "plt.plot(O,price2,'s-',color = 'pink', label=\"all order\")\n",
        "plt.plot(O,price,'s-',color = 'red', label=\"finish order\")\n",
        "plt.legend()\n",
        "plt.show"
      ],
      "execution_count": null,
      "outputs": []
    },
    {
      "cell_type": "code",
      "metadata": {
        "id": "JBXYhL2KPwFg"
      },
      "source": [
        "price1901 = order.loc[order[\"Date\"] == \"2019-01\"][\"TotalPrice\"].mean()\n",
        "price1902 = order.loc[order[\"Date\"] == \"2019-02\"][\"TotalPrice\"].mean()\n",
        "price1903 = order.loc[order[\"Date\"] == \"2019-03\"][\"TotalPrice\"].mean()\n",
        "price1904 = order.loc[order[\"Date\"] == \"2019-04\"][\"TotalPrice\"].mean()\n",
        "price1905 = order.loc[order[\"Date\"] == \"2019-05\"][\"TotalPrice\"].mean()\n",
        "price1906 = order.loc[order[\"Date\"] == \"2019-06\"][\"TotalPrice\"].mean()\n",
        "price1907 = order.loc[order[\"Date\"] == \"2019-07\"][\"TotalPrice\"].mean()\n",
        "price1908 = order.loc[order[\"Date\"] == \"2019-08\"][\"TotalPrice\"].mean()\n",
        "price1909 = order.loc[order[\"Date\"] == \"2019-09\"][\"TotalPrice\"].mean()\n",
        "price1910 = order.loc[order[\"Date\"] == \"2019-10\"][\"TotalPrice\"].mean()\n",
        "price1911 = order.loc[order[\"Date\"] == \"2019-11\"][\"TotalPrice\"].mean()\n",
        "price1912 = order.loc[order[\"Date\"] == \"2019-12\"][\"TotalPrice\"].mean()\n",
        "price2001 = order.loc[order[\"Date\"] == \"2020-01\"][\"TotalPrice\"].mean()\n",
        "price2002 = order.loc[order[\"Date\"] == \"2020-02\"][\"TotalPrice\"].mean()\n",
        "price2003 = order.loc[order[\"Date\"] == \"2020-03\"][\"TotalPrice\"].mean()\n",
        "price2004 = order.loc[order[\"Date\"] == \"2020-04\"][\"TotalPrice\"].mean()\n",
        "\n",
        "price = [price1901,price1902,price1903,price1904,price1905,price1906,price1907,price1908,price1909,price1910,price1911,price1912,price2001,price2002,price2003,price2004]"
      ],
      "execution_count": null,
      "outputs": []
    }
  ]
}