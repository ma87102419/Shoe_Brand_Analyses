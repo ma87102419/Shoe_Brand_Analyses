{
  "nbformat": 4,
  "nbformat_minor": 0,
  "metadata": {
    "colab": {
      "name": "ad_source.ipynb",
      "provenance": []
    },
    "kernelspec": {
      "name": "python3",
      "display_name": "Python 3"
    }
  },
  "cells": [
    {
      "cell_type": "code",
      "metadata": {
        "id": "ZpMyP_zuM0YL"
      },
      "source": [
        "import pandas as pd\n",
        "import numpy as np\n",
        "from openpyxl import load_workbook"
      ],
      "execution_count": null,
      "outputs": []
    },
    {
      "cell_type": "code",
      "metadata": {
        "id": "Wf9WgNGEM7cL"
      },
      "source": [
        "source = pd.read_csv(\"trafficSource_2018-06-26.csv\")"
      ],
      "execution_count": null,
      "outputs": []
    },
    {
      "cell_type": "code",
      "metadata": {
        "id": "99e05kW5M7aS"
      },
      "source": [
        "source.head(10)"
      ],
      "execution_count": null,
      "outputs": []
    },
    {
      "cell_type": "code",
      "metadata": {
        "id": "l-wPR5KgM7YH"
      },
      "source": [
        "for i in range(27,31):\n",
        "    path = \"trafficSource_2018-06-\"+ str(i) +\".csv\"\n",
        "    source1 = pd.read_csv(path)\n",
        "    source = pd.concat([source,source1], axis = 0, ignore_index = True)\n",
        "source.drop"
      ],
      "execution_count": null,
      "outputs": []
    },
    {
      "cell_type": "code",
      "metadata": {
        "id": "47VOANATM7WH"
      },
      "source": [
        "for k in [7,8]:\n",
        "    for i in range(1,10):\n",
        "        path = \"trafficSource_2018-0\"+str(k)+\"-0\"+ str(i) +\".csv\"\n",
        "        source1 = pd.read_csv(path)\n",
        "        source = pd.concat([source,source1], axis = 0, ignore_index = True)\n",
        "    for i in range(10,32):\n",
        "        path = \"trafficSource_2018-0\"+str(k)+\"-\"+ str(i) +\".csv\"\n",
        "        source1 = pd.read_csv(path)\n",
        "        source = pd.concat([source,source1], axis = 0, ignore_index = True)"
      ],
      "execution_count": null,
      "outputs": []
    },
    {
      "cell_type": "code",
      "metadata": {
        "id": "60qZGIGyM7TZ"
      },
      "source": [
        "for k in range(9,13):\n",
        "    if k == 9:\n",
        "        for i in range(1,10):\n",
        "            path = \"trafficSource_2018-0\"+str(k)+\"-0\"+ str(i) +\".csv\"\n",
        "            source1 = pd.read_csv(path)\n",
        "            source = pd.concat([source,source1], axis = 0, ignore_index = True)\n",
        "        for i in range(10,31):\n",
        "            path = \"trafficSource_2018-0\"+str(k)+\"-\"+ str(i) +\".csv\"\n",
        "            source1 = pd.read_csv(path)\n",
        "            source = pd.concat([source,source1], axis = 0, ignore_index = True) \n",
        "    elif k%2 == 0:\n",
        "        for i in range(1,10):\n",
        "            path = \"trafficSource_2018-\"+str(k)+\"-0\"+ str(i) +\".csv\"\n",
        "            source1 = pd.read_csv(path)\n",
        "            source = pd.concat([source,source1], axis = 0, ignore_index = True)\n",
        "        for i in range(10,32):\n",
        "            path = \"trafficSource_2018-\"+str(k)+\"-\"+ str(i) +\".csv\"\n",
        "            source1 = pd.read_csv(path)\n",
        "            source = pd.concat([source,source1], axis = 0, ignore_index = True) \n",
        "    elif k%2 == 1:\n",
        "        for i in range(1,10):\n",
        "            path = \"trafficSource_2018-\"+str(k)+\"-0\"+ str(i) +\".csv\"\n",
        "            source1 = pd.read_csv(path)\n",
        "            source = pd.concat([source,source1], axis = 0, ignore_index = True) \n",
        "        for i in range(10,31):\n",
        "            path = \"trafficSource_2018-\"+str(k)+\"-\"+ str(i) +\".csv\"\n",
        "            source1 = pd.read_csv(path)\n",
        "            source = pd.concat([source,source1], axis = 0, ignore_index = True) "
      ],
      "execution_count": null,
      "outputs": []
    },
    {
      "cell_type": "code",
      "metadata": {
        "id": "AVgWGfh0M7RL"
      },
      "source": [
        "source = source.drop([\"mid\",\"dc\",\"did\",\"ul\",\"geoid\",\"cm\",\"cn\"], axis = 1)"
      ],
      "execution_count": null,
      "outputs": []
    },
    {
      "cell_type": "code",
      "metadata": {
        "id": "-XnMwXeLM7N4"
      },
      "source": [
        "data = source.dropna(subset=['uid'])\n",
        "data1 = pd.concat([data], axis = 0, ignore_index = True)\n",
        "data1"
      ],
      "execution_count": null,
      "outputs": []
    },
    {
      "cell_type": "code",
      "metadata": {
        "id": "Haxz2L4VM7MM"
      },
      "source": [
        "source = pd.DataFrame(columns=['mid', 'dc', 'did', 'uid','ht','ul','geoid','bh','cs','cm','cn'])\n",
        "for k in range(1,10):\n",
        "    if k == 2:\n",
        "        for i in range(1,10):\n",
        "            path = \"trafficSource_2019-0\"+str(k)+\"-0\"+ str(i) +\".csv\"\n",
        "            source1 = pd.read_csv(path)\n",
        "            source = pd.concat([source,source1], axis = 0, ignore_index = True)\n",
        "        for i in range(10,29):\n",
        "            path = \"trafficSource_2019-0\"+str(k)+\"-\"+ str(i) +\".csv\"\n",
        "            source1 = pd.read_csv(path)\n",
        "            source = pd.concat([source,source1], axis = 0, ignore_index = True)\n",
        "    elif (k%2 == 0) and (k != 8):\n",
        "        for i in range(1,10):\n",
        "            path = \"trafficSource_2019-0\"+str(k)+\"-0\"+ str(i) +\".csv\"\n",
        "            source1 = pd.read_csv(path)\n",
        "            source = pd.concat([source,source1], axis = 0, ignore_index = True)\n",
        "        for i in range(10,31):\n",
        "            path = \"trafficSource_2019-0\"+str(k)+\"-\"+ str(i) +\".csv\"\n",
        "            source1 = pd.read_csv(path)\n",
        "            source = pd.concat([source,source1], axis = 0, ignore_index = True)\n",
        "    elif (k%2 == 1) and (k != 9):\n",
        "        for i in range(1,10):\n",
        "            path = \"trafficSource_2019-0\"+str(k)+\"-0\"+ str(i) +\".csv\"\n",
        "            source1 = pd.read_csv(path)\n",
        "            source = pd.concat([source,source1], axis = 0, ignore_index = True)\n",
        "        for i in range(10,32):\n",
        "            path = \"trafficSource_2019-0\"+str(k)+\"-\"+ str(i) +\".csv\"\n",
        "            source1 = pd.read_csv(path)\n",
        "            source = pd.concat([source,source1], axis = 0, ignore_index = True)\n",
        "    elif k == 8:\n",
        "        for i in range(1,10):\n",
        "            path = \"trafficSource_2019-0\"+str(k)+\"-0\"+ str(i) +\".csv\"\n",
        "            source1 = pd.read_csv(path)\n",
        "            source = pd.concat([source,source1], axis = 0, ignore_index = True)\n",
        "        for i in range(10,32):\n",
        "            path = \"trafficSource_2019-0\"+str(k)+\"-\"+ str(i) +\".csv\"\n",
        "            source1 = pd.read_csv(path)\n",
        "            source = pd.concat([source,source1], axis = 0, ignore_index = True)\n",
        "    elif k == 9:\n",
        "        for i in range(1,10):\n",
        "            path = \"trafficSource_2019-0\"+str(k)+\"-0\"+ str(i) +\".csv\"\n",
        "            source1 = pd.read_csv(path)\n",
        "            source = pd.concat([source,source1], axis = 0, ignore_index = True)\n",
        "        for i in range(10,31):\n",
        "            path = \"trafficSource_2019-0\"+str(k)+\"-\"+ str(i) +\".csv\"\n",
        "            source1 = pd.read_csv(path)\n",
        "            source = pd.concat([source,source1], axis = 0, ignore_index = True)"
      ],
      "execution_count": null,
      "outputs": []
    },
    {
      "cell_type": "code",
      "metadata": {
        "id": "bwb97oOBM7JA"
      },
      "source": [
        "for k in range(10,13):\n",
        "    if k == 11:\n",
        "        for i in range(1,10):\n",
        "            path = \"trafficSource_2019-\"+str(k)+\"-0\"+ str(i) +\".csv\"\n",
        "            source1 = pd.read_csv(path)\n",
        "            source = pd.concat([source,source1], axis = 0, ignore_index = True)\n",
        "        for i in range(10,31):\n",
        "            path = \"trafficSource_2019-\"+str(k)+\"-\"+ str(i) +\".csv\"\n",
        "            source1 = pd.read_csv(path)\n",
        "            source = pd.concat([source,source1], axis = 0, ignore_index = True)\n",
        "    else:\n",
        "        for i in range(1,10):\n",
        "            path = \"trafficSource_2019-\"+str(k)+\"-0\"+ str(i) +\".csv\"\n",
        "            source1 = pd.read_csv(path)\n",
        "            source = pd.concat([source,source1], axis = 0, ignore_index = True)\n",
        "        for i in range(10,31):\n",
        "            path = \"trafficSource_2019-\"+str(k)+\"-\"+ str(i) +\".csv\"\n",
        "            source1 = pd.read_csv(path)\n",
        "            source = pd.concat([source,source1], axis = 0, ignore_index = True)"
      ],
      "execution_count": null,
      "outputs": []
    },
    {
      "cell_type": "code",
      "metadata": {
        "id": "A4cMsBAZM7Gr"
      },
      "source": [
        "source = source.drop([\"mid\",\"dc\",\"did\",\"ul\",\"geoid\",\"cm\",\"cn\"], axis = 1)\n",
        "data = source.dropna(subset=['uid'])\n",
        "data2 = pd.concat([data,data1], axis = 0, ignore_index = True)\n",
        "data2"
      ],
      "execution_count": null,
      "outputs": []
    },
    {
      "cell_type": "code",
      "metadata": {
        "id": "-c10YIBfM7EX"
      },
      "source": [
        "source = pd.read_csv(\"trafficSource_2020-01-01.csv\")"
      ],
      "execution_count": null,
      "outputs": []
    },
    {
      "cell_type": "code",
      "metadata": {
        "id": "0_Rk85asNPe9"
      },
      "source": [
        "for i in range(2,10):\n",
        "    path = \"trafficSource_2020-01-0\"+ str(i) +\".csv\"\n",
        "    source1 = pd.read_csv(path, encoding='ISO-8859-1')\n",
        "    source = pd.concat([source,source1], axis = 0, ignore_index = True)\n",
        "for i in range(10,32):\n",
        "    path = \"trafficSource_2020-01-\"+ str(i) +\".csv\"\n",
        "    source1 = pd.read_csv(path, encoding='ISO-8859-1')\n",
        "    source = pd.concat([source,source1], axis = 0, ignore_index = True)\n",
        "\n",
        "for i in range(1,10):\n",
        "    path = \"trafficSource_2020-02-0\"+ str(i) +\".csv\"\n",
        "    source1 = pd.read_csv(path)\n",
        "    source = pd.concat([source,source1], axis = 0, ignore_index = True)\n",
        "for i in range(10,30):\n",
        "    path = \"trafficSource_2020-02-\"+ str(i) +\".csv\"\n",
        "    source1 = pd.read_csv(path, encoding='ISO-8859-1')\n",
        "    source = pd.concat([source,source1], axis = 0, ignore_index = True)\n",
        "\n",
        "for i in range(1,10):\n",
        "    path = \"trafficSource_2020-03-0\"+ str(i) +\".csv\"\n",
        "    source1 = pd.read_csv(path, encoding='ISO-8859-1')\n",
        "    source = pd.concat([source,source1], axis = 0, ignore_index = True)\n",
        "for i in range(10,32):\n",
        "    path = \"trafficSource_2020-03-\"+ str(i) +\".csv\"\n",
        "    source1 = pd.read_csv(path, encoding='ISO-8859-1')\n",
        "    source = pd.concat([source,source1], axis = 0, ignore_index = True)\n",
        "\n",
        "for i in range(1,10):\n",
        "    path = \"trafficSource_2020-04-0\"+ str(i) +\".csv\"\n",
        "    source1 = pd.read_csv(path, encoding='ISO-8859-1')\n",
        "    source = pd.concat([source,source1], axis = 0, ignore_index = True)\n",
        "for i in range(10,31):\n",
        "    path = \"trafficSource_2020-04-\"+ str(i) +\".csv\"\n",
        "    source1 = pd.read_csv(path, encoding='ISO-8859-1')\n",
        "    source = pd.concat([source,source1], axis = 0, ignore_index = True)"
      ],
      "execution_count": null,
      "outputs": []
    },
    {
      "cell_type": "code",
      "metadata": {
        "id": "ZXOnDaauNPa3"
      },
      "source": [
        "source = source.drop([\"mid\",\"dc\",\"did\",\"ul\",\"geoid\",\"cm\",\"cn\"], axis = 1)\n",
        "data = source.dropna(subset=['uid'])\n",
        "data3 = pd.concat([data2,data], axis = 0, ignore_index = True)\n",
        "data3"
      ],
      "execution_count": null,
      "outputs": []
    },
    {
      "cell_type": "code",
      "metadata": {
        "id": "pA3jPkHlNPYy"
      },
      "source": [
        "result = load_workbook(filename = \"Source.xlsx\")\n",
        "result_sheet = result[\"工作表1\"]\n",
        "\n",
        "for i in range(4217548):\n",
        "    result_sheet.cell(row=i+2, column=1).value = data3[\"uid\"][i]\n",
        "    result_sheet.cell(row=i+2, column=2).value = data3[\"ht\"][i]\n",
        "    result_sheet.cell(row=i+2, column=3).value = data3[\"bh\"][i]\n",
        "    result_sheet.cell(row=i+2, column=4).value = data3[\"cs\"][i]\n",
        "\n",
        "result.save(filename = \"Source.xlsx\")"
      ],
      "execution_count": null,
      "outputs": []
    }
  ]
}