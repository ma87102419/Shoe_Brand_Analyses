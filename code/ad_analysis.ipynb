{
  "nbformat": 4,
  "nbformat_minor": 0,
  "metadata": {
    "colab": {
      "name": "ad_analysis.ipynb",
      "provenance": []
    },
    "kernelspec": {
      "name": "python3",
      "display_name": "Python 3"
    }
  },
  "cells": [
    {
      "cell_type": "code",
      "metadata": {
        "id": "i2WgBcBeMCr0"
      },
      "source": [
        "import pandas as pd\n",
        "from openpyxl import load_workbook\n",
        "import datetime"
      ],
      "execution_count": null,
      "outputs": []
    },
    {
      "cell_type": "code",
      "metadata": {
        "id": "_DqXnrsiMFIi"
      },
      "source": [
        "source = pd.read_csv(\"Source.csv\")\n",
        "member = pd.read_csv(\"MemberData.csv\")"
      ],
      "execution_count": null,
      "outputs": []
    },
    {
      "cell_type": "code",
      "metadata": {
        "id": "4-eIfKg2MFGF"
      },
      "source": [
        "member = member.drop([\"RegisterSourceTypeDef\",\"RegisterDateTime\",\"Gender\",\"IsAppInstalled\",\"IsEnableEmail\",\"IsEnablePushNotification\",\"IsEnableShortMessage\",\"eland_uuid\"], axis = 1)"
      ],
      "execution_count": null,
      "outputs": []
    },
    {
      "cell_type": "code",
      "metadata": {
        "id": "4euT-CUUMFDc"
      },
      "source": [
        "member.head(10)"
      ],
      "execution_count": null,
      "outputs": []
    },
    {
      "cell_type": "code",
      "metadata": {
        "id": "KFhRk3OrMFBH"
      },
      "source": [
        "member[member[\"MemberID\"]==\"%2B%2B3XVjBiQPLoAXWc7gK%2BTdvTH4J4AmgkeFlB3mmN7YY%3D\"][[\"Birthday\",\"MemberID\"]]"
      ],
      "execution_count": null,
      "outputs": []
    },
    {
      "cell_type": "code",
      "metadata": {
        "id": "aDq8q54DME-v"
      },
      "source": [
        "data = pd.merge(source,member, on=['MemberID'],how='inner')\n",
        "data"
      ],
      "execution_count": null,
      "outputs": []
    },
    {
      "cell_type": "code",
      "metadata": {
        "id": "W30gE3_nME8R"
      },
      "source": [
        "data = data.drop_duplicates(subset=None, keep='first', inplace=False)\n",
        "data"
      ],
      "execution_count": null,
      "outputs": []
    },
    {
      "cell_type": "code",
      "metadata": {
        "id": "Q4GTbXNTME2U"
      },
      "source": [
        "data = pd.concat([data], axis = 0, ignore_index = True)\n",
        "data"
      ],
      "execution_count": null,
      "outputs": []
    },
    {
      "cell_type": "code",
      "metadata": {
        "id": "-FekpXF1MEz3"
      },
      "source": [
        "data.iloc[16278]"
      ],
      "execution_count": null,
      "outputs": []
    },
    {
      "cell_type": "code",
      "metadata": {
        "id": "kmJi5kRFMExq"
      },
      "source": [
        "for i in range(16279,52232):\n",
        "    day = data[\"Birthday\"][i]\n",
        "    age = 2020 - int(day[:4])\n",
        "    data[\"age\"][i] = age\n",
        "    ht = data[\"ht\"][i]\n",
        "    active_time = datetime.datetime.fromtimestamp(int(ht)/1000)\n",
        "    data[\"ht\"][i] = active_time\n",
        "    print(i)"
      ],
      "execution_count": null,
      "outputs": []
    },
    {
      "cell_type": "code",
      "metadata": {
        "id": "RC_nFgzLMV8T"
      },
      "source": [
        "result = load_workbook(filename = \"Data.xlsx\")\n",
        "\n",
        "result_sheet = result[\"工作表1\"]\n",
        "for i in range(len(data[\"MemberID\"])):\n",
        "    result_sheet.cell(row=i+2, column=1).value = data[\"MemberID\"][i]\n",
        "    result_sheet.cell(row=i+2, column=2).value = data[\"ht\"][i]\n",
        "    result_sheet.cell(row=i+2, column=3).value = data[\"bh\"][i]\n",
        "    result_sheet.cell(row=i+2, column=4).value = data[\"cs\"][i]\n",
        "    result_sheet.cell(row=i+2, column=5).value = data[\"age\"][i]\n",
        "    result_sheet.cell(row=i+2, column=6).value = data[\"MemberCardLevel\"][i]\n",
        "\n",
        "result.save(filename = \"Data.xlsx\")"
      ],
      "execution_count": null,
      "outputs": []
    },
    {
      "cell_type": "code",
      "metadata": {
        "id": "SwKDWYKDMV51"
      },
      "source": [
        "g1 = (10 <= data[\"age\"])\n",
        "g2 = data[g1]\n",
        "g3 = (g2[\"age\"] < 20)\n",
        "group10_20 = g2[g3]\n",
        "group10_20.reset_index(drop=True, inplace=True)\n",
        "group10_20"
      ],
      "execution_count": null,
      "outputs": []
    },
    {
      "cell_type": "code",
      "metadata": {
        "id": "mCY5eBO4MV3h"
      },
      "source": [
        "g1 = (20 <= data[\"age\"])\n",
        "g2 = data[g1]\n",
        "g3 = (g2[\"age\"] < 30)\n",
        "group20_30 = g2[g3]\n",
        "group20_30.reset_index(drop=True, inplace=True)\n",
        "group20_30"
      ],
      "execution_count": null,
      "outputs": []
    },
    {
      "cell_type": "code",
      "metadata": {
        "id": "wa5Aj_nPMcrf"
      },
      "source": [
        "g1 = (30 <= data[\"age\"])\n",
        "g2 = data[g1]\n",
        "g3 = (g2[\"age\"] < 40)\n",
        "group30_40 = g2[g3]\n",
        "group30_40.reset_index(drop=True, inplace=True)\n",
        "group30_40"
      ],
      "execution_count": null,
      "outputs": []
    },
    {
      "cell_type": "code",
      "metadata": {
        "id": "_0gCKiL9McpB"
      },
      "source": [
        "g1 = (40 <= data[\"age\"])\n",
        "group_40 = data[g1]\n",
        "group_40.reset_index(drop=True, inplace=True)\n",
        "group_40"
      ],
      "execution_count": null,
      "outputs": []
    },
    {
      "cell_type": "code",
      "metadata": {
        "id": "BQ_5w3uUMcm8"
      },
      "source": [
        "cs10_20 = {}\n",
        "cs20_30 = {}\n",
        "cs30_40 = {}\n",
        "cs_40 = {}"
      ],
      "execution_count": null,
      "outputs": []
    },
    {
      "cell_type": "code",
      "metadata": {
        "id": "4hq0mFnYMckg"
      },
      "source": [
        "ID_list = []\n",
        "cs_dict = {}\n",
        "cs_kind = group10_20.drop_duplicates(subset='cs', keep='first', inplace=False)\n",
        "cs_kind.reset_index(drop=True, inplace=True)\n",
        "for i in range(len(cs_kind[\"cs\"])):\n",
        "    cs_dict[cs_kind[\"cs\"][i]] = 0"
      ],
      "execution_count": null,
      "outputs": []
    },
    {
      "cell_type": "code",
      "metadata": {
        "id": "QeF-cmcOMciL"
      },
      "source": [
        "for i in range(len(group10_20[\"MemberID\"])):\n",
        "    if group10_20[\"MemberID\"][i] not in ID_list:\n",
        "        ID_list.append(group10_20[\"MemberID\"][i])\n",
        "        cs_dict[group10_20[\"cs\"][i]] += 2\n",
        "    cs_dict[group10_20[\"cs\"][i]] += 1\n",
        "cs10_20 = cs_dict"
      ],
      "execution_count": null,
      "outputs": []
    },
    {
      "cell_type": "code",
      "metadata": {
        "id": "ycuVBAVZMnwr"
      },
      "source": [
        "ID_list = []\n",
        "cs_dict = {}\n",
        "cs_kind = group20_30.drop_duplicates(subset='cs', keep='first', inplace=False)\n",
        "cs_kind.reset_index(drop=True, inplace=True)\n",
        "for i in range(len(cs_kind[\"cs\"])):\n",
        "    cs_dict[cs_kind[\"cs\"][i]] = 0\n",
        "for i in range(len(group20_30[\"MemberID\"])):\n",
        "    if group20_30[\"MemberID\"][i] not in ID_list:\n",
        "        ID_list.append(group20_30[\"MemberID\"][i])\n",
        "        cs_dict[group20_30[\"cs\"][i]] += 2\n",
        "    cs_dict[group20_30[\"cs\"][i]] += 1\n",
        "cs20_30 = cs_dict"
      ],
      "execution_count": null,
      "outputs": []
    },
    {
      "cell_type": "code",
      "metadata": {
        "id": "_wxJheSPMnoA"
      },
      "source": [
        "ID_list = []\n",
        "cs_dict = {}\n",
        "cs_kind = group30_40.drop_duplicates(subset='cs', keep='first', inplace=False)\n",
        "cs_kind.reset_index(drop=True, inplace=True)\n",
        "for i in range(len(cs_kind[\"cs\"])):\n",
        "    cs_dict[cs_kind[\"cs\"][i]] = 0\n",
        "for i in range(len(group30_40[\"MemberID\"])):\n",
        "    if group30_40[\"MemberID\"][i] not in ID_list:\n",
        "        ID_list.append(group30_40[\"MemberID\"][i])\n",
        "        cs_dict[group30_40[\"cs\"][i]] += 2\n",
        "    cs_dict[group30_40[\"cs\"][i]] += 1\n",
        "cs30_40 = cs_dict"
      ],
      "execution_count": null,
      "outputs": []
    },
    {
      "cell_type": "code",
      "metadata": {
        "id": "_DBF9oNDMqef"
      },
      "source": [
        "ID_list = []\n",
        "cs_dict = {}\n",
        "cs_kind = group_40.drop_duplicates(subset='cs', keep='first', inplace=False)\n",
        "cs_kind.reset_index(drop=True, inplace=True)\n",
        "for i in range(len(cs_kind[\"cs\"])):\n",
        "    cs_dict[cs_kind[\"cs\"][i]] = 0\n",
        "for i in range(len(group_40[\"MemberID\"])):\n",
        "    if group_40[\"MemberID\"][i] not in ID_list:\n",
        "        ID_list.append(group_40[\"MemberID\"][i])\n",
        "        cs_dict[group_40[\"cs\"][i]] += 2\n",
        "    cs_dict[group_40[\"cs\"][i]] += 1\n",
        "cs_40 = cs_dict"
      ],
      "execution_count": null,
      "outputs": []
    },
    {
      "cell_type": "code",
      "metadata": {
        "id": "RzbND1jcMqcP"
      },
      "source": [
        "Cs10_20 = pd.DataFrame(list(cs10_20.items()), columns=['cs_source', 'score'])\n",
        "Cs20_30 = pd.DataFrame(list(cs20_30.items()), columns=['cs_source', 'score'])\n",
        "Cs30_40 = pd.DataFrame(list(cs30_40.items()), columns=['cs_source', 'score'])\n",
        "Cs_40 = pd.DataFrame(list(cs_40.items()), columns=['cs_source', 'score'])"
      ],
      "execution_count": null,
      "outputs": []
    },
    {
      "cell_type": "code",
      "metadata": {
        "id": "IXsN1b0MMqZ6"
      },
      "source": [
        "result = load_workbook(filename = \"Group_Source.xlsx\")\n",
        "\n",
        "result_sheet = result[\"10-20\"]\n",
        "for i in range(len(Cs10_20[\"cs_source\"])):\n",
        "    result_sheet.cell(row=i+2, column=1).value = Cs10_20[\"cs_source\"][i]\n",
        "    result_sheet.cell(row=i+2, column=2).value = Cs10_20[\"score\"][i]\n",
        "\n",
        "result_sheet = result[\"20-30\"]\n",
        "for i in range(len(Cs20_30[\"cs_source\"])):\n",
        "    result_sheet.cell(row=i+2, column=1).value = Cs20_30[\"cs_source\"][i]\n",
        "    result_sheet.cell(row=i+2, column=2).value = Cs20_30[\"score\"][i]\n",
        "\n",
        "result_sheet = result[\"30-40\"]\n",
        "for i in range(len(Cs30_40[\"cs_source\"])):\n",
        "    result_sheet.cell(row=i+2, column=1).value = Cs30_40[\"cs_source\"][i]\n",
        "    result_sheet.cell(row=i+2, column=2).value = Cs30_40[\"score\"][i]\n",
        "\n",
        "result_sheet = result[\"40\"]\n",
        "for i in range(len(Cs_40[\"cs_source\"])):\n",
        "    result_sheet.cell(row=i+2, column=1).value = Cs_40[\"cs_source\"][i]\n",
        "    result_sheet.cell(row=i+2, column=2).value = Cs_40[\"score\"][i]\n",
        "    \n",
        "result.save(filename = \"Group_Source.xlsx\")"
      ],
      "execution_count": null,
      "outputs": []
    }
  ]
}