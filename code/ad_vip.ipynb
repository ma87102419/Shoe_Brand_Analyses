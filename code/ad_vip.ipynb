{
  "nbformat": 4,
  "nbformat_minor": 0,
  "metadata": {
    "colab": {
      "name": "ad_vip.ipynb",
      "provenance": [],
      "collapsed_sections": []
    },
    "kernelspec": {
      "name": "python3",
      "display_name": "Python 3"
    }
  },
  "cells": [
    {
      "cell_type": "code",
      "metadata": {
        "id": "eArbycRtNfBv"
      },
      "source": [
        "import pandas as pd\n",
        "from openpyxl import load_workbook\n",
        "import datetime"
      ],
      "execution_count": null,
      "outputs": []
    },
    {
      "cell_type": "code",
      "metadata": {
        "id": "FElaAlrMNnix"
      },
      "source": [
        "data = pd.read_excel(\"Data.xlsx\")"
      ],
      "execution_count": null,
      "outputs": []
    },
    {
      "cell_type": "code",
      "metadata": {
        "id": "0NijITwuNngB"
      },
      "source": [
        "data.head()"
      ],
      "execution_count": null,
      "outputs": []
    },
    {
      "cell_type": "code",
      "metadata": {
        "id": "y29HYL_jNndj"
      },
      "source": [
        "set(data[\"cs\"])"
      ],
      "execution_count": null,
      "outputs": []
    },
    {
      "cell_type": "code",
      "metadata": {
        "id": "BttUfawhNna-"
      },
      "source": [
        "set(data[\"MemberCardLevel\"])"
      ],
      "execution_count": null,
      "outputs": []
    },
    {
      "cell_type": "code",
      "metadata": {
        "id": "BixGFMedNnYg"
      },
      "source": [
        "set(data[\"bh\"])"
      ],
      "execution_count": null,
      "outputs": []
    },
    {
      "cell_type": "code",
      "metadata": {
        "id": "BWca7aEVNnWB"
      },
      "source": [
        "g1 = (data[\"MemberCardLevel\"] == 10)\n",
        "g10 = data[g1]\n",
        "g10.reset_index(drop=True, inplace=True)\n",
        "g10"
      ],
      "execution_count": null,
      "outputs": []
    },
    {
      "cell_type": "code",
      "metadata": {
        "id": "7ru-vHRqNnTb"
      },
      "source": [
        "g1 = (data[\"MemberCardLevel\"] == 20)\n",
        "g20 = data[g1]\n",
        "g20.reset_index(drop=True, inplace=True)\n",
        "g20"
      ],
      "execution_count": null,
      "outputs": []
    },
    {
      "cell_type": "code",
      "metadata": {
        "id": "73fQBGQbNnRA"
      },
      "source": [
        "g1 = (data[\"MemberCardLevel\"] == 30)\n",
        "g30 = data[g1]\n",
        "g30.reset_index(drop=True, inplace=True)\n",
        "g30"
      ],
      "execution_count": null,
      "outputs": []
    },
    {
      "cell_type": "code",
      "metadata": {
        "id": "6PtVGu-mNnOp"
      },
      "source": [
        "g1 = (data[\"MemberCardLevel\"] == 40)\n",
        "g40 = data[g1]\n",
        "g40.reset_index(drop=True, inplace=True)\n",
        "g40"
      ],
      "execution_count": null,
      "outputs": []
    },
    {
      "cell_type": "code",
      "metadata": {
        "id": "IxLR3RZlNnMS"
      },
      "source": [
        "cs10 = {}\n",
        "cs20 = {}\n",
        "cs30 = {}\n",
        "cs40 = {}"
      ],
      "execution_count": null,
      "outputs": []
    },
    {
      "cell_type": "code",
      "metadata": {
        "id": "tfYeRgwnN0sk"
      },
      "source": [
        "ID_list = []\n",
        "cs_dict = {}\n",
        "cs_kind = g10.drop_duplicates(subset='cs', keep='first', inplace=False)\n",
        "cs_kind.reset_index(drop=True, inplace=True)\n",
        "for i in range(len(cs_kind[\"cs\"])):\n",
        "    cs_dict[cs_kind[\"cs\"][i]] = 0\n",
        "cs_dict"
      ],
      "execution_count": null,
      "outputs": []
    },
    {
      "cell_type": "code",
      "metadata": {
        "id": "NxDFsfKkN0q_"
      },
      "source": [
        "for i in range(len(g10[\"MemberID\"])):\n",
        "    if g10[\"MemberID\"][i] not in ID_list:\n",
        "        ID_list.append(g10[\"MemberID\"][i])\n",
        "        cs_dict[g10[\"cs\"][i]] += 2\n",
        "    cs_dict[g10[\"cs\"][i]] += 1\n",
        "cs10 = cs_dict"
      ],
      "execution_count": null,
      "outputs": []
    },
    {
      "cell_type": "code",
      "metadata": {
        "id": "9M7f_nbUN0pC"
      },
      "source": [
        "ID_list = []\n",
        "cs_dict = {}\n",
        "cs_kind = g20.drop_duplicates(subset='cs', keep='first', inplace=False)\n",
        "cs_kind.reset_index(drop=True, inplace=True)\n",
        "for i in range(len(cs_kind[\"cs\"])):\n",
        "    cs_dict[cs_kind[\"cs\"][i]] = 0\n",
        "for i in range(len(g20[\"MemberID\"])):\n",
        "    if g20[\"MemberID\"][i] not in ID_list:\n",
        "        ID_list.append(g20[\"MemberID\"][i])\n",
        "        cs_dict[g20[\"cs\"][i]] += 2\n",
        "    cs_dict[g20[\"cs\"][i]] += 1\n",
        "cs20 = cs_dict"
      ],
      "execution_count": null,
      "outputs": []
    },
    {
      "cell_type": "code",
      "metadata": {
        "id": "fCTDEKKUN0lw"
      },
      "source": [
        "ID_list = []\n",
        "cs_dict = {}\n",
        "cs_kind = g30.drop_duplicates(subset='cs', keep='first', inplace=False)\n",
        "cs_kind.reset_index(drop=True, inplace=True)\n",
        "for i in range(len(cs_kind[\"cs\"])):\n",
        "    cs_dict[cs_kind[\"cs\"][i]] = 0\n",
        "for i in range(len(g30[\"MemberID\"])):\n",
        "    if g30[\"MemberID\"][i] not in ID_list:\n",
        "        ID_list.append(g30[\"MemberID\"][i])\n",
        "        cs_dict[g30[\"cs\"][i]] += 2\n",
        "    cs_dict[g30[\"cs\"][i]] += 1\n",
        "cs30 = cs_dict"
      ],
      "execution_count": null,
      "outputs": []
    },
    {
      "cell_type": "code",
      "metadata": {
        "id": "PjMn3ONVN0jP"
      },
      "source": [
        "ID_list = []\n",
        "cs_dict = {}\n",
        "cs_kind = g40.drop_duplicates(subset='cs', keep='first', inplace=False)\n",
        "cs_kind.reset_index(drop=True, inplace=True)\n",
        "for i in range(len(cs_kind[\"cs\"])):\n",
        "    cs_dict[cs_kind[\"cs\"][i]] = 0\n",
        "for i in range(len(g40[\"MemberID\"])):\n",
        "    if g40[\"MemberID\"][i] not in ID_list:\n",
        "        ID_list.append(g40[\"MemberID\"][i])\n",
        "        cs_dict[g40[\"cs\"][i]] += 2\n",
        "    cs_dict[g40[\"cs\"][i]] += 1\n",
        "cs40 = cs_dict"
      ],
      "execution_count": null,
      "outputs": []
    },
    {
      "cell_type": "code",
      "metadata": {
        "id": "YynSrfZRN0g0"
      },
      "source": [
        "cs40"
      ],
      "execution_count": null,
      "outputs": []
    },
    {
      "cell_type": "code",
      "metadata": {
        "id": "ELAs1kUON_K2"
      },
      "source": [
        "Cs10 = pd.DataFrame(list(cs10.items()), columns=['cs_source', 'score'])\n",
        "Cs20 = pd.DataFrame(list(cs20.items()), columns=['cs_source', 'score'])\n",
        "Cs30 = pd.DataFrame(list(cs30.items()), columns=['cs_source', 'score'])\n",
        "Cs40 = pd.DataFrame(list(cs40.items()), columns=['cs_source', 'score'])"
      ],
      "execution_count": null,
      "outputs": []
    },
    {
      "cell_type": "code",
      "metadata": {
        "id": "I4axQxVRN_IF"
      },
      "source": [
        "result = load_workbook(filename = \"Group_Source.xlsx\")"
      ],
      "execution_count": null,
      "outputs": []
    },
    {
      "cell_type": "code",
      "metadata": {
        "id": "jnCO-vEGN_Fy"
      },
      "source": [
        "result = load_workbook(filename = \"Group_Source.xlsx\")\n",
        "\n",
        "result_sheet = result[\"10\"]\n",
        "for i in range(len(Cs10[\"cs_source\"])):\n",
        "    result_sheet.cell(row=i+2, column=1).value = Cs10[\"cs_source\"][i]\n",
        "    result_sheet.cell(row=i+2, column=2).value = Cs10[\"score\"][i]\n",
        "\n",
        "result_sheet = result[\"20\"]\n",
        "for i in range(len(Cs20[\"cs_source\"])):\n",
        "    result_sheet.cell(row=i+2, column=1).value = Cs20[\"cs_source\"][i]\n",
        "    result_sheet.cell(row=i+2, column=2).value = Cs20[\"score\"][i]\n",
        "\n",
        "result_sheet = result[\"30\"]\n",
        "for i in range(len(Cs30[\"cs_source\"])):\n",
        "    result_sheet.cell(row=i+2, column=1).value = Cs30[\"cs_source\"][i]\n",
        "    result_sheet.cell(row=i+2, column=2).value = Cs30[\"score\"][i]\n",
        "\n",
        "result_sheet = result[\"40\"]\n",
        "for i in range(len(Cs40[\"cs_source\"])):\n",
        "    result_sheet.cell(row=i+2, column=1).value = Cs40[\"cs_source\"][i]\n",
        "    result_sheet.cell(row=i+2, column=2).value = Cs40[\"score\"][i]\n",
        "    \n",
        "result.save(filename = \"Group_Source.xlsx\")"
      ],
      "execution_count": null,
      "outputs": []
    }
  ]
}